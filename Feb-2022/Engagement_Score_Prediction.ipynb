{
 "cells": [
  {
   "cell_type": "code",
   "execution_count": 1,
   "id": "249ef575",
   "metadata": {},
   "outputs": [],
   "source": [
    "import pandas as pd\n",
    "import numpy as np\n",
    "from IPython.display import display\n",
    "import ipywidgets as widgets\n",
    "import matplotlib.pyplot as plt\n",
    "import seaborn as sns\n",
    "from sklearn.preprocessing import StandardScaler\n",
    "from sklearn.model_selection import train_test_split\n",
    "from sklearn.metrics import mean_squared_error\n",
    "from sklearn.model_selection import RepeatedKFold\n",
    "from sklearn.model_selection import cross_val_score\n",
    "from sklearn.metrics import r2_score\n",
    "from numpy import absolute\n",
    "import xgboost as xgb\n",
    "%matplotlib inline"
   ]
  },
  {
   "cell_type": "code",
   "execution_count": 2,
   "id": "e6a4fd8e",
   "metadata": {},
   "outputs": [
    {
     "name": "stdout",
     "output_type": "stream",
     "text": [
      "Training DataSet\n"
     ]
    },
    {
     "data": {
      "text/html": [
       "<div>\n",
       "<style scoped>\n",
       "    .dataframe tbody tr th:only-of-type {\n",
       "        vertical-align: middle;\n",
       "    }\n",
       "\n",
       "    .dataframe tbody tr th {\n",
       "        vertical-align: top;\n",
       "    }\n",
       "\n",
       "    .dataframe thead th {\n",
       "        text-align: right;\n",
       "    }\n",
       "</style>\n",
       "<table border=\"1\" class=\"dataframe\">\n",
       "  <thead>\n",
       "    <tr style=\"text-align: right;\">\n",
       "      <th></th>\n",
       "      <th>row_id</th>\n",
       "      <th>user_id</th>\n",
       "      <th>category_id</th>\n",
       "      <th>video_id</th>\n",
       "      <th>age</th>\n",
       "      <th>gender</th>\n",
       "      <th>profession</th>\n",
       "      <th>followers</th>\n",
       "      <th>views</th>\n",
       "      <th>engagement_score</th>\n",
       "    </tr>\n",
       "  </thead>\n",
       "  <tbody>\n",
       "    <tr>\n",
       "      <th>0</th>\n",
       "      <td>1</td>\n",
       "      <td>19990</td>\n",
       "      <td>37</td>\n",
       "      <td>128</td>\n",
       "      <td>24</td>\n",
       "      <td>Male</td>\n",
       "      <td>Student</td>\n",
       "      <td>180</td>\n",
       "      <td>1000</td>\n",
       "      <td>4.33</td>\n",
       "    </tr>\n",
       "    <tr>\n",
       "      <th>1</th>\n",
       "      <td>2</td>\n",
       "      <td>5304</td>\n",
       "      <td>32</td>\n",
       "      <td>132</td>\n",
       "      <td>14</td>\n",
       "      <td>Female</td>\n",
       "      <td>Student</td>\n",
       "      <td>330</td>\n",
       "      <td>714</td>\n",
       "      <td>1.79</td>\n",
       "    </tr>\n",
       "    <tr>\n",
       "      <th>2</th>\n",
       "      <td>3</td>\n",
       "      <td>1840</td>\n",
       "      <td>12</td>\n",
       "      <td>24</td>\n",
       "      <td>19</td>\n",
       "      <td>Male</td>\n",
       "      <td>Student</td>\n",
       "      <td>180</td>\n",
       "      <td>138</td>\n",
       "      <td>4.35</td>\n",
       "    </tr>\n",
       "    <tr>\n",
       "      <th>3</th>\n",
       "      <td>4</td>\n",
       "      <td>12597</td>\n",
       "      <td>23</td>\n",
       "      <td>112</td>\n",
       "      <td>19</td>\n",
       "      <td>Male</td>\n",
       "      <td>Student</td>\n",
       "      <td>220</td>\n",
       "      <td>613</td>\n",
       "      <td>3.77</td>\n",
       "    </tr>\n",
       "    <tr>\n",
       "      <th>4</th>\n",
       "      <td>5</td>\n",
       "      <td>13626</td>\n",
       "      <td>23</td>\n",
       "      <td>112</td>\n",
       "      <td>27</td>\n",
       "      <td>Male</td>\n",
       "      <td>Working Professional</td>\n",
       "      <td>220</td>\n",
       "      <td>613</td>\n",
       "      <td>3.13</td>\n",
       "    </tr>\n",
       "  </tbody>\n",
       "</table>\n",
       "</div>"
      ],
      "text/plain": [
       "   row_id  user_id  category_id  video_id  age  gender            profession  \\\n",
       "0       1    19990           37       128   24    Male               Student   \n",
       "1       2     5304           32       132   14  Female               Student   \n",
       "2       3     1840           12        24   19    Male               Student   \n",
       "3       4    12597           23       112   19    Male               Student   \n",
       "4       5    13626           23       112   27    Male  Working Professional   \n",
       "\n",
       "   followers  views  engagement_score  \n",
       "0        180   1000              4.33  \n",
       "1        330    714              1.79  \n",
       "2        180    138              4.35  \n",
       "3        220    613              3.77  \n",
       "4        220    613              3.13  "
      ]
     },
     "metadata": {},
     "output_type": "display_data"
    },
    {
     "name": "stdout",
     "output_type": "stream",
     "text": [
      "Shape of training dataset (89197, 10)\n",
      "\n",
      "\n",
      "Testing DataSet\n"
     ]
    },
    {
     "data": {
      "text/html": [
       "<div>\n",
       "<style scoped>\n",
       "    .dataframe tbody tr th:only-of-type {\n",
       "        vertical-align: middle;\n",
       "    }\n",
       "\n",
       "    .dataframe tbody tr th {\n",
       "        vertical-align: top;\n",
       "    }\n",
       "\n",
       "    .dataframe thead th {\n",
       "        text-align: right;\n",
       "    }\n",
       "</style>\n",
       "<table border=\"1\" class=\"dataframe\">\n",
       "  <thead>\n",
       "    <tr style=\"text-align: right;\">\n",
       "      <th></th>\n",
       "      <th>row_id</th>\n",
       "      <th>user_id</th>\n",
       "      <th>category_id</th>\n",
       "      <th>video_id</th>\n",
       "      <th>age</th>\n",
       "      <th>gender</th>\n",
       "      <th>profession</th>\n",
       "      <th>followers</th>\n",
       "      <th>views</th>\n",
       "    </tr>\n",
       "  </thead>\n",
       "  <tbody>\n",
       "    <tr>\n",
       "      <th>0</th>\n",
       "      <td>89198</td>\n",
       "      <td>7986</td>\n",
       "      <td>12</td>\n",
       "      <td>42</td>\n",
       "      <td>14</td>\n",
       "      <td>Male</td>\n",
       "      <td>Student</td>\n",
       "      <td>180</td>\n",
       "      <td>138</td>\n",
       "    </tr>\n",
       "    <tr>\n",
       "      <th>1</th>\n",
       "      <td>89199</td>\n",
       "      <td>11278</td>\n",
       "      <td>34</td>\n",
       "      <td>115</td>\n",
       "      <td>14</td>\n",
       "      <td>Male</td>\n",
       "      <td>Student</td>\n",
       "      <td>230</td>\n",
       "      <td>840</td>\n",
       "    </tr>\n",
       "    <tr>\n",
       "      <th>2</th>\n",
       "      <td>89200</td>\n",
       "      <td>17245</td>\n",
       "      <td>8</td>\n",
       "      <td>110</td>\n",
       "      <td>44</td>\n",
       "      <td>Female</td>\n",
       "      <td>Working Professional</td>\n",
       "      <td>280</td>\n",
       "      <td>628</td>\n",
       "    </tr>\n",
       "    <tr>\n",
       "      <th>3</th>\n",
       "      <td>89201</td>\n",
       "      <td>9851</td>\n",
       "      <td>16</td>\n",
       "      <td>137</td>\n",
       "      <td>18</td>\n",
       "      <td>Male</td>\n",
       "      <td>Student</td>\n",
       "      <td>270</td>\n",
       "      <td>462</td>\n",
       "    </tr>\n",
       "    <tr>\n",
       "      <th>4</th>\n",
       "      <td>89202</td>\n",
       "      <td>16008</td>\n",
       "      <td>34</td>\n",
       "      <td>96</td>\n",
       "      <td>47</td>\n",
       "      <td>Female</td>\n",
       "      <td>Other</td>\n",
       "      <td>230</td>\n",
       "      <td>840</td>\n",
       "    </tr>\n",
       "  </tbody>\n",
       "</table>\n",
       "</div>"
      ],
      "text/plain": [
       "   row_id  user_id  category_id  video_id  age  gender            profession  \\\n",
       "0   89198     7986           12        42   14    Male               Student   \n",
       "1   89199    11278           34       115   14    Male               Student   \n",
       "2   89200    17245            8       110   44  Female  Working Professional   \n",
       "3   89201     9851           16       137   18    Male               Student   \n",
       "4   89202    16008           34        96   47  Female                 Other   \n",
       "\n",
       "   followers  views  \n",
       "0        180    138  \n",
       "1        230    840  \n",
       "2        280    628  \n",
       "3        270    462  \n",
       "4        230    840  "
      ]
     },
     "metadata": {},
     "output_type": "display_data"
    },
    {
     "name": "stdout",
     "output_type": "stream",
     "text": [
      "Shape of testing dataset (11121, 9)\n"
     ]
    }
   ],
   "source": [
    "train_df = pd.read_csv(\"train.csv\")\n",
    "test_df = pd.read_csv(\"test.csv\")\n",
    "\n",
    "print(\"Training DataSet\")\n",
    "display(train_df.head())\n",
    "print(\"Shape of training dataset {}\".format(train_df.shape))\n",
    "print(\"\\n\\nTesting DataSet\")\n",
    "display(test_df.head())\n",
    "print(\"Shape of testing dataset {}\".format(test_df.shape))"
   ]
  },
  {
   "cell_type": "code",
   "execution_count": null,
   "id": "fe0de20b",
   "metadata": {},
   "outputs": [],
   "source": []
  },
  {
   "cell_type": "code",
   "execution_count": 3,
   "id": "b2c2754d",
   "metadata": {},
   "outputs": [
    {
     "data": {
      "text/html": [
       "<div>\n",
       "<style scoped>\n",
       "    .dataframe tbody tr th:only-of-type {\n",
       "        vertical-align: middle;\n",
       "    }\n",
       "\n",
       "    .dataframe tbody tr th {\n",
       "        vertical-align: top;\n",
       "    }\n",
       "\n",
       "    .dataframe thead th {\n",
       "        text-align: right;\n",
       "    }\n",
       "</style>\n",
       "<table border=\"1\" class=\"dataframe\">\n",
       "  <thead>\n",
       "    <tr style=\"text-align: right;\">\n",
       "      <th></th>\n",
       "      <th>row_id</th>\n",
       "      <th>user_id</th>\n",
       "      <th>category_id</th>\n",
       "      <th>video_id</th>\n",
       "      <th>age</th>\n",
       "      <th>gender</th>\n",
       "      <th>profession</th>\n",
       "      <th>followers</th>\n",
       "      <th>views</th>\n",
       "      <th>engagement_score</th>\n",
       "    </tr>\n",
       "  </thead>\n",
       "  <tbody>\n",
       "    <tr>\n",
       "      <th>0</th>\n",
       "      <td>1</td>\n",
       "      <td>19990</td>\n",
       "      <td>37</td>\n",
       "      <td>128</td>\n",
       "      <td>24</td>\n",
       "      <td>0</td>\n",
       "      <td>0</td>\n",
       "      <td>180</td>\n",
       "      <td>1000</td>\n",
       "      <td>4.33</td>\n",
       "    </tr>\n",
       "    <tr>\n",
       "      <th>1</th>\n",
       "      <td>2</td>\n",
       "      <td>5304</td>\n",
       "      <td>32</td>\n",
       "      <td>132</td>\n",
       "      <td>14</td>\n",
       "      <td>1</td>\n",
       "      <td>0</td>\n",
       "      <td>330</td>\n",
       "      <td>714</td>\n",
       "      <td>1.79</td>\n",
       "    </tr>\n",
       "    <tr>\n",
       "      <th>2</th>\n",
       "      <td>3</td>\n",
       "      <td>1840</td>\n",
       "      <td>12</td>\n",
       "      <td>24</td>\n",
       "      <td>19</td>\n",
       "      <td>0</td>\n",
       "      <td>0</td>\n",
       "      <td>180</td>\n",
       "      <td>138</td>\n",
       "      <td>4.35</td>\n",
       "    </tr>\n",
       "    <tr>\n",
       "      <th>3</th>\n",
       "      <td>4</td>\n",
       "      <td>12597</td>\n",
       "      <td>23</td>\n",
       "      <td>112</td>\n",
       "      <td>19</td>\n",
       "      <td>0</td>\n",
       "      <td>0</td>\n",
       "      <td>220</td>\n",
       "      <td>613</td>\n",
       "      <td>3.77</td>\n",
       "    </tr>\n",
       "    <tr>\n",
       "      <th>4</th>\n",
       "      <td>5</td>\n",
       "      <td>13626</td>\n",
       "      <td>23</td>\n",
       "      <td>112</td>\n",
       "      <td>27</td>\n",
       "      <td>0</td>\n",
       "      <td>1</td>\n",
       "      <td>220</td>\n",
       "      <td>613</td>\n",
       "      <td>3.13</td>\n",
       "    </tr>\n",
       "  </tbody>\n",
       "</table>\n",
       "</div>"
      ],
      "text/plain": [
       "   row_id  user_id  category_id  video_id  age  gender  profession  followers  \\\n",
       "0       1    19990           37       128   24       0           0        180   \n",
       "1       2     5304           32       132   14       1           0        330   \n",
       "2       3     1840           12        24   19       0           0        180   \n",
       "3       4    12597           23       112   19       0           0        220   \n",
       "4       5    13626           23       112   27       0           1        220   \n",
       "\n",
       "   views  engagement_score  \n",
       "0   1000              4.33  \n",
       "1    714              1.79  \n",
       "2    138              4.35  \n",
       "3    613              3.77  \n",
       "4    613              3.13  "
      ]
     },
     "execution_count": 3,
     "metadata": {},
     "output_type": "execute_result"
    }
   ],
   "source": [
    "profLabel = {'Student': 0, 'Working Professional':1, 'Other':2}\n",
    "genderLabel = {'Male': 0, 'Female':1}\n",
    "train_df.profession = train_df.profession.map(profLabel)\n",
    "train_df.gender = train_df.gender.map(genderLabel)\n",
    "\n",
    "train_df.head()"
   ]
  },
  {
   "cell_type": "code",
   "execution_count": 4,
   "id": "ee9eafcf",
   "metadata": {},
   "outputs": [
    {
     "data": {
      "text/html": [
       "<div>\n",
       "<style scoped>\n",
       "    .dataframe tbody tr th:only-of-type {\n",
       "        vertical-align: middle;\n",
       "    }\n",
       "\n",
       "    .dataframe tbody tr th {\n",
       "        vertical-align: top;\n",
       "    }\n",
       "\n",
       "    .dataframe thead th {\n",
       "        text-align: right;\n",
       "    }\n",
       "</style>\n",
       "<table border=\"1\" class=\"dataframe\">\n",
       "  <thead>\n",
       "    <tr style=\"text-align: right;\">\n",
       "      <th></th>\n",
       "      <th>category_id</th>\n",
       "      <th>video_id</th>\n",
       "      <th>weight</th>\n",
       "    </tr>\n",
       "  </thead>\n",
       "  <tbody>\n",
       "    <tr>\n",
       "      <th>0</th>\n",
       "      <td>1</td>\n",
       "      <td>1</td>\n",
       "      <td>591</td>\n",
       "    </tr>\n",
       "    <tr>\n",
       "      <th>1</th>\n",
       "      <td>1</td>\n",
       "      <td>2</td>\n",
       "      <td>622</td>\n",
       "    </tr>\n",
       "    <tr>\n",
       "      <th>2</th>\n",
       "      <td>1</td>\n",
       "      <td>15</td>\n",
       "      <td>597</td>\n",
       "    </tr>\n",
       "    <tr>\n",
       "      <th>3</th>\n",
       "      <td>2</td>\n",
       "      <td>3</td>\n",
       "      <td>167</td>\n",
       "    </tr>\n",
       "    <tr>\n",
       "      <th>4</th>\n",
       "      <td>3</td>\n",
       "      <td>4</td>\n",
       "      <td>932</td>\n",
       "    </tr>\n",
       "  </tbody>\n",
       "</table>\n",
       "</div>"
      ],
      "text/plain": [
       "   category_id  video_id  weight\n",
       "0            1         1     591\n",
       "1            1         2     622\n",
       "2            1        15     597\n",
       "3            2         3     167\n",
       "4            3         4     932"
      ]
     },
     "metadata": {},
     "output_type": "display_data"
    },
    {
     "data": {
      "text/html": [
       "<div>\n",
       "<style scoped>\n",
       "    .dataframe tbody tr th:only-of-type {\n",
       "        vertical-align: middle;\n",
       "    }\n",
       "\n",
       "    .dataframe tbody tr th {\n",
       "        vertical-align: top;\n",
       "    }\n",
       "\n",
       "    .dataframe thead th {\n",
       "        text-align: right;\n",
       "    }\n",
       "</style>\n",
       "<table border=\"1\" class=\"dataframe\">\n",
       "  <thead>\n",
       "    <tr style=\"text-align: right;\">\n",
       "      <th></th>\n",
       "      <th>row_id</th>\n",
       "      <th>user_id</th>\n",
       "      <th>category_id</th>\n",
       "      <th>video_id</th>\n",
       "      <th>age</th>\n",
       "      <th>gender</th>\n",
       "      <th>profession</th>\n",
       "      <th>followers</th>\n",
       "      <th>views</th>\n",
       "      <th>engagement_score</th>\n",
       "      <th>weight</th>\n",
       "    </tr>\n",
       "  </thead>\n",
       "  <tbody>\n",
       "    <tr>\n",
       "      <th>0</th>\n",
       "      <td>1</td>\n",
       "      <td>19990</td>\n",
       "      <td>37</td>\n",
       "      <td>128</td>\n",
       "      <td>24</td>\n",
       "      <td>0</td>\n",
       "      <td>0</td>\n",
       "      <td>180</td>\n",
       "      <td>1000</td>\n",
       "      <td>4.33</td>\n",
       "      <td>503</td>\n",
       "    </tr>\n",
       "    <tr>\n",
       "      <th>1</th>\n",
       "      <td>244</td>\n",
       "      <td>1684</td>\n",
       "      <td>37</td>\n",
       "      <td>128</td>\n",
       "      <td>37</td>\n",
       "      <td>0</td>\n",
       "      <td>2</td>\n",
       "      <td>180</td>\n",
       "      <td>1000</td>\n",
       "      <td>2.48</td>\n",
       "      <td>503</td>\n",
       "    </tr>\n",
       "    <tr>\n",
       "      <th>2</th>\n",
       "      <td>655</td>\n",
       "      <td>26609</td>\n",
       "      <td>37</td>\n",
       "      <td>128</td>\n",
       "      <td>21</td>\n",
       "      <td>0</td>\n",
       "      <td>0</td>\n",
       "      <td>180</td>\n",
       "      <td>1000</td>\n",
       "      <td>4.62</td>\n",
       "      <td>503</td>\n",
       "    </tr>\n",
       "    <tr>\n",
       "      <th>3</th>\n",
       "      <td>934</td>\n",
       "      <td>15281</td>\n",
       "      <td>37</td>\n",
       "      <td>128</td>\n",
       "      <td>45</td>\n",
       "      <td>1</td>\n",
       "      <td>1</td>\n",
       "      <td>180</td>\n",
       "      <td>1000</td>\n",
       "      <td>1.15</td>\n",
       "      <td>503</td>\n",
       "    </tr>\n",
       "    <tr>\n",
       "      <th>4</th>\n",
       "      <td>1029</td>\n",
       "      <td>20227</td>\n",
       "      <td>37</td>\n",
       "      <td>128</td>\n",
       "      <td>30</td>\n",
       "      <td>0</td>\n",
       "      <td>2</td>\n",
       "      <td>180</td>\n",
       "      <td>1000</td>\n",
       "      <td>4.08</td>\n",
       "      <td>503</td>\n",
       "    </tr>\n",
       "  </tbody>\n",
       "</table>\n",
       "</div>"
      ],
      "text/plain": [
       "   row_id  user_id  category_id  video_id  age  gender  profession  followers  \\\n",
       "0       1    19990           37       128   24       0           0        180   \n",
       "1     244     1684           37       128   37       0           2        180   \n",
       "2     655    26609           37       128   21       0           0        180   \n",
       "3     934    15281           37       128   45       1           1        180   \n",
       "4    1029    20227           37       128   30       0           2        180   \n",
       "\n",
       "   views  engagement_score  weight  \n",
       "0   1000              4.33     503  \n",
       "1   1000              2.48     503  \n",
       "2   1000              4.62     503  \n",
       "3   1000              1.15     503  \n",
       "4   1000              4.08     503  "
      ]
     },
     "metadata": {},
     "output_type": "display_data"
    }
   ],
   "source": [
    "temp_df = train_df[['video_id', 'category_id', 'followers']].groupby(['category_id', 'video_id']).count().reset_index().rename(columns = {'followers':'weight'})\n",
    "display(temp_df.head())\n",
    "weighted_train_df = train_df.merge(temp_df, on = ['video_id', 'category_id'])\n",
    "\n",
    "display(weighted_train_df.head())"
   ]
  },
  {
   "cell_type": "code",
   "execution_count": 5,
   "id": "2672fbe3",
   "metadata": {},
   "outputs": [
    {
     "data": {
      "text/html": [
       "<div>\n",
       "<style scoped>\n",
       "    .dataframe tbody tr th:only-of-type {\n",
       "        vertical-align: middle;\n",
       "    }\n",
       "\n",
       "    .dataframe tbody tr th {\n",
       "        vertical-align: top;\n",
       "    }\n",
       "\n",
       "    .dataframe thead th {\n",
       "        text-align: right;\n",
       "    }\n",
       "</style>\n",
       "<table border=\"1\" class=\"dataframe\">\n",
       "  <thead>\n",
       "    <tr style=\"text-align: right;\">\n",
       "      <th></th>\n",
       "      <th>row_id</th>\n",
       "      <th>user_id</th>\n",
       "      <th>category_id</th>\n",
       "      <th>video_id</th>\n",
       "      <th>age</th>\n",
       "      <th>gender</th>\n",
       "      <th>profession</th>\n",
       "      <th>followers</th>\n",
       "      <th>views</th>\n",
       "      <th>engagement_score</th>\n",
       "      <th>weight</th>\n",
       "    </tr>\n",
       "  </thead>\n",
       "  <tbody>\n",
       "    <tr>\n",
       "      <th>0</th>\n",
       "      <td>1</td>\n",
       "      <td>19990</td>\n",
       "      <td>37</td>\n",
       "      <td>128</td>\n",
       "      <td>24</td>\n",
       "      <td>0</td>\n",
       "      <td>0</td>\n",
       "      <td>-1.54655</td>\n",
       "      <td>1.913246</td>\n",
       "      <td>4.33</td>\n",
       "      <td>503</td>\n",
       "    </tr>\n",
       "    <tr>\n",
       "      <th>1</th>\n",
       "      <td>244</td>\n",
       "      <td>1684</td>\n",
       "      <td>37</td>\n",
       "      <td>128</td>\n",
       "      <td>37</td>\n",
       "      <td>0</td>\n",
       "      <td>2</td>\n",
       "      <td>-1.54655</td>\n",
       "      <td>1.913246</td>\n",
       "      <td>2.48</td>\n",
       "      <td>503</td>\n",
       "    </tr>\n",
       "    <tr>\n",
       "      <th>2</th>\n",
       "      <td>655</td>\n",
       "      <td>26609</td>\n",
       "      <td>37</td>\n",
       "      <td>128</td>\n",
       "      <td>21</td>\n",
       "      <td>0</td>\n",
       "      <td>0</td>\n",
       "      <td>-1.54655</td>\n",
       "      <td>1.913246</td>\n",
       "      <td>4.62</td>\n",
       "      <td>503</td>\n",
       "    </tr>\n",
       "    <tr>\n",
       "      <th>3</th>\n",
       "      <td>934</td>\n",
       "      <td>15281</td>\n",
       "      <td>37</td>\n",
       "      <td>128</td>\n",
       "      <td>45</td>\n",
       "      <td>1</td>\n",
       "      <td>1</td>\n",
       "      <td>-1.54655</td>\n",
       "      <td>1.913246</td>\n",
       "      <td>1.15</td>\n",
       "      <td>503</td>\n",
       "    </tr>\n",
       "    <tr>\n",
       "      <th>4</th>\n",
       "      <td>1029</td>\n",
       "      <td>20227</td>\n",
       "      <td>37</td>\n",
       "      <td>128</td>\n",
       "      <td>30</td>\n",
       "      <td>0</td>\n",
       "      <td>2</td>\n",
       "      <td>-1.54655</td>\n",
       "      <td>1.913246</td>\n",
       "      <td>4.08</td>\n",
       "      <td>503</td>\n",
       "    </tr>\n",
       "  </tbody>\n",
       "</table>\n",
       "</div>"
      ],
      "text/plain": [
       "   row_id  user_id  category_id  video_id  age  gender  profession  followers  \\\n",
       "0       1    19990           37       128   24       0           0   -1.54655   \n",
       "1     244     1684           37       128   37       0           2   -1.54655   \n",
       "2     655    26609           37       128   21       0           0   -1.54655   \n",
       "3     934    15281           37       128   45       1           1   -1.54655   \n",
       "4    1029    20227           37       128   30       0           2   -1.54655   \n",
       "\n",
       "      views  engagement_score  weight  \n",
       "0  1.913246              4.33     503  \n",
       "1  1.913246              2.48     503  \n",
       "2  1.913246              4.62     503  \n",
       "3  1.913246              1.15     503  \n",
       "4  1.913246              4.08     503  "
      ]
     },
     "metadata": {},
     "output_type": "display_data"
    }
   ],
   "source": [
    "scaler = StandardScaler()\n",
    "weight_tranform_data = scaler.fit_transform(weighted_train_df[['followers', 'views']], sample_weight=weighted_train_df.weight)\n",
    "weight_tranform_df = pd.DataFrame(weight_tranform_data, columns=['followers', 'views'])\n",
    "weight_tranform_df.head()\n",
    "\n",
    "weighted_train_df['followers'] = weight_tranform_df['followers']\n",
    "weighted_train_df['views'] = weight_tranform_df['views']\n",
    "display(weighted_train_df.head())"
   ]
  },
  {
   "cell_type": "code",
   "execution_count": 6,
   "id": "c1c4f3bd",
   "metadata": {},
   "outputs": [
    {
     "data": {
      "text/html": [
       "<div>\n",
       "<style scoped>\n",
       "    .dataframe tbody tr th:only-of-type {\n",
       "        vertical-align: middle;\n",
       "    }\n",
       "\n",
       "    .dataframe tbody tr th {\n",
       "        vertical-align: top;\n",
       "    }\n",
       "\n",
       "    .dataframe thead th {\n",
       "        text-align: right;\n",
       "    }\n",
       "</style>\n",
       "<table border=\"1\" class=\"dataframe\">\n",
       "  <thead>\n",
       "    <tr style=\"text-align: right;\">\n",
       "      <th></th>\n",
       "      <th>row_id</th>\n",
       "      <th>user_id</th>\n",
       "      <th>category_id</th>\n",
       "      <th>video_id</th>\n",
       "      <th>age</th>\n",
       "      <th>gender</th>\n",
       "      <th>profession</th>\n",
       "      <th>followers</th>\n",
       "      <th>views</th>\n",
       "      <th>engagement_score</th>\n",
       "      <th>weight</th>\n",
       "    </tr>\n",
       "  </thead>\n",
       "  <tbody>\n",
       "    <tr>\n",
       "      <th>0</th>\n",
       "      <td>1</td>\n",
       "      <td>19990</td>\n",
       "      <td>37</td>\n",
       "      <td>128</td>\n",
       "      <td>-0.094759</td>\n",
       "      <td>0</td>\n",
       "      <td>0</td>\n",
       "      <td>-1.54655</td>\n",
       "      <td>1.913246</td>\n",
       "      <td>4.33</td>\n",
       "      <td>503</td>\n",
       "    </tr>\n",
       "    <tr>\n",
       "      <th>1</th>\n",
       "      <td>244</td>\n",
       "      <td>1684</td>\n",
       "      <td>37</td>\n",
       "      <td>128</td>\n",
       "      <td>1.356865</td>\n",
       "      <td>0</td>\n",
       "      <td>2</td>\n",
       "      <td>-1.54655</td>\n",
       "      <td>1.913246</td>\n",
       "      <td>2.48</td>\n",
       "      <td>503</td>\n",
       "    </tr>\n",
       "    <tr>\n",
       "      <th>2</th>\n",
       "      <td>655</td>\n",
       "      <td>26609</td>\n",
       "      <td>37</td>\n",
       "      <td>128</td>\n",
       "      <td>-0.429750</td>\n",
       "      <td>0</td>\n",
       "      <td>0</td>\n",
       "      <td>-1.54655</td>\n",
       "      <td>1.913246</td>\n",
       "      <td>4.62</td>\n",
       "      <td>503</td>\n",
       "    </tr>\n",
       "    <tr>\n",
       "      <th>3</th>\n",
       "      <td>934</td>\n",
       "      <td>15281</td>\n",
       "      <td>37</td>\n",
       "      <td>128</td>\n",
       "      <td>2.250172</td>\n",
       "      <td>1</td>\n",
       "      <td>1</td>\n",
       "      <td>-1.54655</td>\n",
       "      <td>1.913246</td>\n",
       "      <td>1.15</td>\n",
       "      <td>503</td>\n",
       "    </tr>\n",
       "    <tr>\n",
       "      <th>4</th>\n",
       "      <td>1029</td>\n",
       "      <td>20227</td>\n",
       "      <td>37</td>\n",
       "      <td>128</td>\n",
       "      <td>0.575221</td>\n",
       "      <td>0</td>\n",
       "      <td>2</td>\n",
       "      <td>-1.54655</td>\n",
       "      <td>1.913246</td>\n",
       "      <td>4.08</td>\n",
       "      <td>503</td>\n",
       "    </tr>\n",
       "  </tbody>\n",
       "</table>\n",
       "</div>"
      ],
      "text/plain": [
       "   row_id  user_id  category_id  video_id       age  gender  profession  \\\n",
       "0       1    19990           37       128 -0.094759       0           0   \n",
       "1     244     1684           37       128  1.356865       0           2   \n",
       "2     655    26609           37       128 -0.429750       0           0   \n",
       "3     934    15281           37       128  2.250172       1           1   \n",
       "4    1029    20227           37       128  0.575221       0           2   \n",
       "\n",
       "   followers     views  engagement_score  weight  \n",
       "0   -1.54655  1.913246              4.33     503  \n",
       "1   -1.54655  1.913246              2.48     503  \n",
       "2   -1.54655  1.913246              4.62     503  \n",
       "3   -1.54655  1.913246              1.15     503  \n",
       "4   -1.54655  1.913246              4.08     503  "
      ]
     },
     "metadata": {},
     "output_type": "display_data"
    }
   ],
   "source": [
    "scaler = StandardScaler()\n",
    "weight_tranform_data = scaler.fit_transform(weighted_train_df[['age']])\n",
    "weight_tranform_df = pd.DataFrame(weight_tranform_data, columns=['age'])\n",
    "\n",
    "weighted_train_df['age'] = weight_tranform_df['age']\n",
    "\n",
    "display(weighted_train_df.head())"
   ]
  },
  {
   "cell_type": "code",
   "execution_count": 7,
   "id": "d725e196",
   "metadata": {},
   "outputs": [
    {
     "data": {
      "text/html": [
       "<div>\n",
       "<style scoped>\n",
       "    .dataframe tbody tr th:only-of-type {\n",
       "        vertical-align: middle;\n",
       "    }\n",
       "\n",
       "    .dataframe tbody tr th {\n",
       "        vertical-align: top;\n",
       "    }\n",
       "\n",
       "    .dataframe thead th {\n",
       "        text-align: right;\n",
       "    }\n",
       "</style>\n",
       "<table border=\"1\" class=\"dataframe\">\n",
       "  <thead>\n",
       "    <tr style=\"text-align: right;\">\n",
       "      <th></th>\n",
       "      <th>age</th>\n",
       "      <th>gender</th>\n",
       "      <th>profession</th>\n",
       "      <th>followers</th>\n",
       "      <th>views</th>\n",
       "      <th>engagement_score</th>\n",
       "    </tr>\n",
       "  </thead>\n",
       "  <tbody>\n",
       "    <tr>\n",
       "      <th>0</th>\n",
       "      <td>-0.094759</td>\n",
       "      <td>0</td>\n",
       "      <td>0</td>\n",
       "      <td>-1.54655</td>\n",
       "      <td>1.913246</td>\n",
       "      <td>4.33</td>\n",
       "    </tr>\n",
       "    <tr>\n",
       "      <th>1</th>\n",
       "      <td>1.356865</td>\n",
       "      <td>0</td>\n",
       "      <td>2</td>\n",
       "      <td>-1.54655</td>\n",
       "      <td>1.913246</td>\n",
       "      <td>2.48</td>\n",
       "    </tr>\n",
       "    <tr>\n",
       "      <th>2</th>\n",
       "      <td>-0.429750</td>\n",
       "      <td>0</td>\n",
       "      <td>0</td>\n",
       "      <td>-1.54655</td>\n",
       "      <td>1.913246</td>\n",
       "      <td>4.62</td>\n",
       "    </tr>\n",
       "    <tr>\n",
       "      <th>3</th>\n",
       "      <td>2.250172</td>\n",
       "      <td>1</td>\n",
       "      <td>1</td>\n",
       "      <td>-1.54655</td>\n",
       "      <td>1.913246</td>\n",
       "      <td>1.15</td>\n",
       "    </tr>\n",
       "    <tr>\n",
       "      <th>4</th>\n",
       "      <td>0.575221</td>\n",
       "      <td>0</td>\n",
       "      <td>2</td>\n",
       "      <td>-1.54655</td>\n",
       "      <td>1.913246</td>\n",
       "      <td>4.08</td>\n",
       "    </tr>\n",
       "  </tbody>\n",
       "</table>\n",
       "</div>"
      ],
      "text/plain": [
       "        age  gender  profession  followers     views  engagement_score\n",
       "0 -0.094759       0           0   -1.54655  1.913246              4.33\n",
       "1  1.356865       0           2   -1.54655  1.913246              2.48\n",
       "2 -0.429750       0           0   -1.54655  1.913246              4.62\n",
       "3  2.250172       1           1   -1.54655  1.913246              1.15\n",
       "4  0.575221       0           2   -1.54655  1.913246              4.08"
      ]
     },
     "execution_count": 7,
     "metadata": {},
     "output_type": "execute_result"
    }
   ],
   "source": [
    "training_df = weighted_train_df[['age', 'gender', 'profession', 'followers', 'views', 'engagement_score']]\n",
    "training_df.head()"
   ]
  },
  {
   "cell_type": "code",
   "execution_count": 8,
   "id": "d7723e67",
   "metadata": {},
   "outputs": [
    {
     "data": {
      "text/html": [
       "<div>\n",
       "<style scoped>\n",
       "    .dataframe tbody tr th:only-of-type {\n",
       "        vertical-align: middle;\n",
       "    }\n",
       "\n",
       "    .dataframe tbody tr th {\n",
       "        vertical-align: top;\n",
       "    }\n",
       "\n",
       "    .dataframe thead th {\n",
       "        text-align: right;\n",
       "    }\n",
       "</style>\n",
       "<table border=\"1\" class=\"dataframe\">\n",
       "  <thead>\n",
       "    <tr style=\"text-align: right;\">\n",
       "      <th></th>\n",
       "      <th>age</th>\n",
       "      <th>gender</th>\n",
       "      <th>profession</th>\n",
       "      <th>followers</th>\n",
       "      <th>views</th>\n",
       "    </tr>\n",
       "  </thead>\n",
       "  <tbody>\n",
       "    <tr>\n",
       "      <th>0</th>\n",
       "      <td>-0.094759</td>\n",
       "      <td>0</td>\n",
       "      <td>0</td>\n",
       "      <td>-1.54655</td>\n",
       "      <td>1.913246</td>\n",
       "    </tr>\n",
       "    <tr>\n",
       "      <th>1</th>\n",
       "      <td>1.356865</td>\n",
       "      <td>0</td>\n",
       "      <td>2</td>\n",
       "      <td>-1.54655</td>\n",
       "      <td>1.913246</td>\n",
       "    </tr>\n",
       "    <tr>\n",
       "      <th>2</th>\n",
       "      <td>-0.429750</td>\n",
       "      <td>0</td>\n",
       "      <td>0</td>\n",
       "      <td>-1.54655</td>\n",
       "      <td>1.913246</td>\n",
       "    </tr>\n",
       "    <tr>\n",
       "      <th>3</th>\n",
       "      <td>2.250172</td>\n",
       "      <td>1</td>\n",
       "      <td>1</td>\n",
       "      <td>-1.54655</td>\n",
       "      <td>1.913246</td>\n",
       "    </tr>\n",
       "    <tr>\n",
       "      <th>4</th>\n",
       "      <td>0.575221</td>\n",
       "      <td>0</td>\n",
       "      <td>2</td>\n",
       "      <td>-1.54655</td>\n",
       "      <td>1.913246</td>\n",
       "    </tr>\n",
       "  </tbody>\n",
       "</table>\n",
       "</div>"
      ],
      "text/plain": [
       "        age  gender  profession  followers     views\n",
       "0 -0.094759       0           0   -1.54655  1.913246\n",
       "1  1.356865       0           2   -1.54655  1.913246\n",
       "2 -0.429750       0           0   -1.54655  1.913246\n",
       "3  2.250172       1           1   -1.54655  1.913246\n",
       "4  0.575221       0           2   -1.54655  1.913246"
      ]
     },
     "metadata": {},
     "output_type": "display_data"
    },
    {
     "data": {
      "text/html": [
       "<div>\n",
       "<style scoped>\n",
       "    .dataframe tbody tr th:only-of-type {\n",
       "        vertical-align: middle;\n",
       "    }\n",
       "\n",
       "    .dataframe tbody tr th {\n",
       "        vertical-align: top;\n",
       "    }\n",
       "\n",
       "    .dataframe thead th {\n",
       "        text-align: right;\n",
       "    }\n",
       "</style>\n",
       "<table border=\"1\" class=\"dataframe\">\n",
       "  <thead>\n",
       "    <tr style=\"text-align: right;\">\n",
       "      <th></th>\n",
       "      <th>engagement_score</th>\n",
       "    </tr>\n",
       "  </thead>\n",
       "  <tbody>\n",
       "    <tr>\n",
       "      <th>0</th>\n",
       "      <td>4.33</td>\n",
       "    </tr>\n",
       "    <tr>\n",
       "      <th>1</th>\n",
       "      <td>2.48</td>\n",
       "    </tr>\n",
       "    <tr>\n",
       "      <th>2</th>\n",
       "      <td>4.62</td>\n",
       "    </tr>\n",
       "    <tr>\n",
       "      <th>3</th>\n",
       "      <td>1.15</td>\n",
       "    </tr>\n",
       "    <tr>\n",
       "      <th>4</th>\n",
       "      <td>4.08</td>\n",
       "    </tr>\n",
       "  </tbody>\n",
       "</table>\n",
       "</div>"
      ],
      "text/plain": [
       "   engagement_score\n",
       "0              4.33\n",
       "1              2.48\n",
       "2              4.62\n",
       "3              1.15\n",
       "4              4.08"
      ]
     },
     "metadata": {},
     "output_type": "display_data"
    }
   ],
   "source": [
    "X, y = (training_df[['age', 'gender', 'profession', 'followers', 'views']], training_df[['engagement_score']])\n",
    "\n",
    "\n",
    "display(X.head())\n",
    "display(y.head())"
   ]
  },
  {
   "cell_type": "code",
   "execution_count": 9,
   "id": "c8cbdd78",
   "metadata": {},
   "outputs": [],
   "source": [
    "X_train, X_test, y_train, y_test = train_test_split(X, y, test_size=0.30, random_state=7)"
   ]
  },
  {
   "cell_type": "code",
   "execution_count": null,
   "id": "38ebffc3",
   "metadata": {},
   "outputs": [],
   "source": [
    "xg_reg = xgb.XGBRegressor(objective ='reg:squarederror', colsample_bytree = 0.1, learning_rate = 0.3, tree_method='hist', num_parallel_tree=3, max_depth = 5, alpha = 0.3, n_estimators = 1000)\n",
    "\n",
    "# reg:logistic -> MSE -> 0.713, r2 -> 0.312\n",
    "# reg:pseudohubererror -> MSE 0.71, r2 -> 0.31\n",
    "# reg:tweedie -> MSE ->, r2 ->\n",
    "xg_reg"
   ]
  },
  {
   "cell_type": "code",
   "execution_count": null,
   "id": "d0153981",
   "metadata": {},
   "outputs": [],
   "source": [
    "cv = RepeatedKFold(n_splits=5, n_repeats=10, random_state=1)  # default 5, 10"
   ]
  },
  {
   "cell_type": "code",
   "execution_count": null,
   "id": "477febc6",
   "metadata": {},
   "outputs": [],
   "source": [
    "scores_cv = cross_val_score(xg_reg, X, y, scoring='r2', cv=cv, n_jobs=-1)\n"
   ]
  },
  {
   "cell_type": "code",
   "execution_count": null,
   "id": "d08dbd88",
   "metadata": {},
   "outputs": [],
   "source": [
    "scores = absolute(scores_cv)\n",
    "print('Mean MAE: %.3f (%.3f)' % (scores.mean(), scores.std()) )\n",
    "\n",
    "display(scores_cv)\n",
    "display(scores)"
   ]
  },
  {
   "cell_type": "code",
   "execution_count": null,
   "id": "334aa51e",
   "metadata": {},
   "outputs": [],
   "source": [
    "xg_reg"
   ]
  },
  {
   "cell_type": "code",
   "execution_count": null,
   "id": "80af4ddd",
   "metadata": {},
   "outputs": [],
   "source": [
    "xg_reg.fit(X_train,y_train)\n",
    "\n",
    "xg_reg"
   ]
  },
  {
   "cell_type": "code",
   "execution_count": null,
   "id": "19c4c69f",
   "metadata": {},
   "outputs": [],
   "source": [
    "preds = xg_reg.predict(X_test)"
   ]
  },
  {
   "cell_type": "code",
   "execution_count": null,
   "id": "1e72cae9",
   "metadata": {},
   "outputs": [],
   "source": [
    "rmse = np.sqrt(mean_squared_error(y_test, preds))\n",
    "print(\"RMSE: %f\" % (rmse))"
   ]
  },
  {
   "cell_type": "code",
   "execution_count": null,
   "id": "e49e42c7",
   "metadata": {},
   "outputs": [],
   "source": [
    "r2_score(y_test, preds)"
   ]
  },
  {
   "cell_type": "code",
   "execution_count": null,
   "id": "c824c715",
   "metadata": {},
   "outputs": [],
   "source": []
  },
  {
   "cell_type": "code",
   "execution_count": null,
   "id": "cfd7d637",
   "metadata": {},
   "outputs": [],
   "source": [
    "xg_ada_reg = AdaBoostRegressor(base_estimator = xg_reg,  n_estimators=100)\n",
    "print(xg_ada_reg)"
   ]
  },
  {
   "cell_type": "code",
   "execution_count": null,
   "id": "1693eb9a",
   "metadata": {},
   "outputs": [],
   "source": [
    "xg_ada_reg.fit(X_train,y_train)"
   ]
  },
  {
   "cell_type": "code",
   "execution_count": null,
   "id": "d3b9f136",
   "metadata": {},
   "outputs": [],
   "source": [
    "xg_ada_pred = xg_ada_reg.predict(X_test)"
   ]
  },
  {
   "cell_type": "code",
   "execution_count": null,
   "id": "65c09c46",
   "metadata": {},
   "outputs": [],
   "source": [
    "r2_score(y_test, xg_ada_pred)"
   ]
  },
  {
   "cell_type": "code",
   "execution_count": null,
   "id": "8ae5f237",
   "metadata": {},
   "outputs": [],
   "source": []
  },
  {
   "cell_type": "code",
   "execution_count": 11,
   "id": "887e5230",
   "metadata": {},
   "outputs": [],
   "source": [
    "from sklearn.ensemble import AdaBoostRegressor\n",
    "from lightgbm import LGBMRegressor"
   ]
  },
  {
   "cell_type": "code",
   "execution_count": null,
   "id": "973c6294",
   "metadata": {},
   "outputs": [],
   "source": []
  },
  {
   "cell_type": "code",
   "execution_count": null,
   "id": "b5a105d7",
   "metadata": {},
   "outputs": [],
   "source": [
    "ada_reg = AdaBoostRegressor(base_estimator = lgb_reg,  n_estimators=20, learning_rate=0.03)\n",
    "print(ada_reg)\n",
    "\n",
    "\n",
    "### - cross validataion \n",
    "#scores = cross_val_score(ada_reg, xtrain,ytrain,cv=5)\n",
    "#print(\"Mean cross-validataion score: %.2f\" % scores.mean())\n",
    "\n",
    "# k-fold cross validataion \n",
    "#kfold = KFold(n_splits=10, shuffle=True)\n",
    "#kf_cv_scores = cross_val_score(ada_reg, xtrain, ytrain, cv=kfold, scoring='r2' )\n",
    "#print(\"K-fold CV average score: %.2f\" % kf_cv_scores.mean())"
   ]
  },
  {
   "cell_type": "code",
   "execution_count": null,
   "id": "bf71a4c5",
   "metadata": {},
   "outputs": [],
   "source": [
    "\n",
    "ada_reg.fit(X_train,y_train)"
   ]
  },
  {
   "cell_type": "code",
   "execution_count": null,
   "id": "8c3374fc",
   "metadata": {},
   "outputs": [],
   "source": [
    "ada_pred = ada_reg.predict(X_test)"
   ]
  },
  {
   "cell_type": "code",
   "execution_count": null,
   "id": "9a0fa49b",
   "metadata": {},
   "outputs": [],
   "source": [
    "r2_score(y_test, ada_pred)"
   ]
  },
  {
   "cell_type": "code",
   "execution_count": null,
   "id": "2084ecc3",
   "metadata": {},
   "outputs": [],
   "source": [
    "ada_reg.estimator_errors_"
   ]
  },
  {
   "cell_type": "code",
   "execution_count": null,
   "id": "2f80ac58",
   "metadata": {},
   "outputs": [],
   "source": []
  },
  {
   "cell_type": "code",
   "execution_count": 98,
   "id": "fae06b40",
   "metadata": {},
   "outputs": [
    {
     "data": {
      "text/plain": [
       "LGBMRegressor(boosting_type='dart', learning_rate=0.01, max_depth=10,\n",
       "              metric='mape', n_estimators=5000, objective='regression',\n",
       "              xgboost_dart_mode=True)"
      ]
     },
     "execution_count": 98,
     "metadata": {},
     "output_type": "execute_result"
    }
   ],
   "source": [
    "#lgb_reg = LGBMRegressor(n_estimators=10000, objective='regression', learning_rate=0.01)\n",
    "#\"boosting_type\": ['gbdt','dart', 'goss', 'rf'],\n",
    "##\"learning_rate\":[0.01, 0.03, 0.1, 0.3],\n",
    "#\"n_estimators\":[1000,10000],\n",
    "#\"objective\":'regression',\n",
    "\n",
    "#, metric=\"mape\"\n",
    "lgb_reg = LGBMRegressor(n_estimators=5000, max_depth=10, objective='regression', learning_rate=0.01, boosting_type='dart', xgboost_dart_mode=True, metric=\"mape\")\n",
    "lgb_reg"
   ]
  },
  {
   "cell_type": "code",
   "execution_count": 99,
   "id": "0f0b8987",
   "metadata": {},
   "outputs": [
    {
     "data": {
      "text/plain": [
       "LGBMRegressor(boosting_type='dart', learning_rate=0.01, max_depth=10,\n",
       "              metric='mape', n_estimators=5000, objective='regression',\n",
       "              xgboost_dart_mode=True)"
      ]
     },
     "execution_count": 99,
     "metadata": {},
     "output_type": "execute_result"
    }
   ],
   "source": [
    "lgb_reg.fit(X_train,y_train, eval_metric='r2')"
   ]
  },
  {
   "cell_type": "code",
   "execution_count": 100,
   "id": "6bd8b773",
   "metadata": {},
   "outputs": [
    {
     "data": {
      "text/plain": [
       "0.01"
      ]
     },
     "execution_count": 100,
     "metadata": {},
     "output_type": "execute_result"
    }
   ],
   "source": [
    "lgb_reg.learning_rate"
   ]
  },
  {
   "cell_type": "code",
   "execution_count": 101,
   "id": "413b3f2e",
   "metadata": {},
   "outputs": [],
   "source": [
    "lgb_pred = lgb_reg.predict(X_test)"
   ]
  },
  {
   "cell_type": "code",
   "execution_count": 104,
   "id": "1e72bec3",
   "metadata": {},
   "outputs": [
    {
     "data": {
      "text/plain": [
       "0.3389968034510652"
      ]
     },
     "execution_count": 104,
     "metadata": {},
     "output_type": "execute_result"
    }
   ],
   "source": [
    "r2_score(y_test, lgb_pred)"
   ]
  },
  {
   "cell_type": "code",
   "execution_count": 103,
   "id": "44da7a19",
   "metadata": {},
   "outputs": [
    {
     "data": {
      "text/plain": [
       "0.37042170338200897"
      ]
     },
     "execution_count": 103,
     "metadata": {},
     "output_type": "execute_result"
    }
   ],
   "source": [
    "lgb_reg.score(X, y)"
   ]
  },
  {
   "cell_type": "code",
   "execution_count": null,
   "id": "3fad8760",
   "metadata": {},
   "outputs": [],
   "source": [
    "without mape -> 0.3389968034510652\n",
    "\n",
    "possion => 0.3384065948650786\n",
    "tweedie => 0.3385146980285705"
   ]
  },
  {
   "cell_type": "code",
   "execution_count": 93,
   "id": "7229c92f",
   "metadata": {},
   "outputs": [
    {
     "name": "stdout",
     "output_type": "stream",
     "text": [
      "AdaBoostRegressor(base_estimator=LGBMRegressor(boosting_type='dart',\n",
      "                                               learning_rate=0.01, max_depth=10,\n",
      "                                               n_estimators=5000,\n",
      "                                               objective='regression',\n",
      "                                               xgboost_dart_mode=True),\n",
      "                  learning_rate=0.03, loss='square', n_estimators=20)\n"
     ]
    }
   ],
   "source": [
    "ada_reg = AdaBoostRegressor(base_estimator = lgb_reg,  n_estimators=20, learning_rate=0.03, loss='square')\n",
    "print(ada_reg)"
   ]
  },
  {
   "cell_type": "code",
   "execution_count": 94,
   "id": "f20779de",
   "metadata": {},
   "outputs": [
    {
     "name": "stderr",
     "output_type": "stream",
     "text": [
      "C:\\Users\\Guru Saluja\\anaconda3\\lib\\site-packages\\sklearn\\utils\\validation.py:63: DataConversionWarning: A column-vector y was passed when a 1d array was expected. Please change the shape of y to (n_samples, ), for example using ravel().\n",
      "  return f(*args, **kwargs)\n"
     ]
    },
    {
     "data": {
      "text/plain": [
       "AdaBoostRegressor(base_estimator=LGBMRegressor(boosting_type='dart',\n",
       "                                               learning_rate=0.01, max_depth=10,\n",
       "                                               n_estimators=5000,\n",
       "                                               objective='regression',\n",
       "                                               xgboost_dart_mode=True),\n",
       "                  learning_rate=0.03, loss='square', n_estimators=20)"
      ]
     },
     "execution_count": 94,
     "metadata": {},
     "output_type": "execute_result"
    }
   ],
   "source": [
    "ada_reg.fit(X_train,y_train)"
   ]
  },
  {
   "cell_type": "code",
   "execution_count": 95,
   "id": "80c1b931",
   "metadata": {},
   "outputs": [],
   "source": [
    "ada_pred = ada_reg.predict(X_test)"
   ]
  },
  {
   "cell_type": "code",
   "execution_count": 96,
   "id": "0a6d6cd2",
   "metadata": {},
   "outputs": [
    {
     "data": {
      "text/plain": [
       "0.33882021164481413"
      ]
     },
     "execution_count": 96,
     "metadata": {},
     "output_type": "execute_result"
    }
   ],
   "source": [
    "r2_score(y_test, ada_pred)"
   ]
  },
  {
   "cell_type": "code",
   "execution_count": 97,
   "id": "e305e112",
   "metadata": {},
   "outputs": [
    {
     "data": {
      "text/plain": [
       "array([0.03299871, 0.03129085, 0.0344539 , 0.03427867, 0.03339027,\n",
       "       0.03560762, 0.03521575, 0.03705942, 0.03747329, 0.03849859,\n",
       "       0.03811355, 0.03900515, 0.039584  , 0.03960465, 0.0404152 ,\n",
       "       0.04241623, 0.04280423, 0.04314803, 0.04387373, 0.04354808])"
      ]
     },
     "execution_count": 97,
     "metadata": {},
     "output_type": "execute_result"
    }
   ],
   "source": [
    "ada_reg.estimator_errors_"
   ]
  },
  {
   "cell_type": "code",
   "execution_count": null,
   "id": "718c996e",
   "metadata": {},
   "outputs": [],
   "source": []
  },
  {
   "cell_type": "code",
   "execution_count": null,
   "id": "cf0b5ae7",
   "metadata": {},
   "outputs": [],
   "source": [
    "ada loss square => 0.33882021164481413\n"
   ]
  },
  {
   "cell_type": "code",
   "execution_count": null,
   "id": "f67dc54b",
   "metadata": {},
   "outputs": [],
   "source": []
  },
  {
   "cell_type": "code",
   "execution_count": null,
   "id": "cf5ef888",
   "metadata": {},
   "outputs": [],
   "source": [
    "dart -> 0.335\n",
    "goss -> 0.3303"
   ]
  },
  {
   "cell_type": "code",
   "execution_count": null,
   "id": "495abb3e",
   "metadata": {},
   "outputs": [],
   "source": [
    "from sklearn.linear_model import ElasticNet"
   ]
  },
  {
   "cell_type": "code",
   "execution_count": null,
   "id": "5ce36ce9",
   "metadata": {},
   "outputs": [],
   "source": [
    "#alpha=1.0, l1_ratio=0.5\n",
    "en_reg = ElasticNet()\n",
    "en_reg"
   ]
  },
  {
   "cell_type": "code",
   "execution_count": null,
   "id": "b75dfde2",
   "metadata": {},
   "outputs": [],
   "source": [
    "en_reg.fit(X_train,y_train)"
   ]
  },
  {
   "cell_type": "code",
   "execution_count": null,
   "id": "aefc091e",
   "metadata": {},
   "outputs": [],
   "source": [
    "en_pred = en_reg.predict(X_test)"
   ]
  },
  {
   "cell_type": "code",
   "execution_count": null,
   "id": "8b8eeb37",
   "metadata": {},
   "outputs": [],
   "source": [
    "r2_score(y_test, en_pred)"
   ]
  },
  {
   "cell_type": "code",
   "execution_count": null,
   "id": "91e3b085",
   "metadata": {},
   "outputs": [],
   "source": []
  },
  {
   "cell_type": "code",
   "execution_count": null,
   "id": "a872a776",
   "metadata": {},
   "outputs": [],
   "source": [
    "from sklearn.svm import SVR\n",
    "\n",
    "svr_reg = SVR(C=1.0, epsilon=0.2, kernel='poly', degree=5)\n",
    "print(svr_reg)\n",
    "\n",
    "svr_reg.fit(X_train,y_train)\n"
   ]
  },
  {
   "cell_type": "code",
   "execution_count": null,
   "id": "7b7025a7",
   "metadata": {},
   "outputs": [],
   "source": [
    "svr_pred = svr_reg.predict(X_test)\n",
    "r2_score(y_test, svr_pred)"
   ]
  },
  {
   "cell_type": "code",
   "execution_count": null,
   "id": "c80bb28f",
   "metadata": {},
   "outputs": [],
   "source": [
    "rmse = np.sqrt(mean_squared_error(y_test, svr_pred))\n",
    "print(\"RMSE: %f\" % (rmse))"
   ]
  },
  {
   "cell_type": "code",
   "execution_count": null,
   "id": "5b30370b",
   "metadata": {},
   "outputs": [],
   "source": []
  },
  {
   "cell_type": "code",
   "execution_count": null,
   "id": "83840626",
   "metadata": {},
   "outputs": [],
   "source": [
    "from sklearn.linear_model import SGDRegressor\n",
    "\n",
    "sgd_reg = SGDRegressor(max_iter=100, tol=1e-3)"
   ]
  },
  {
   "cell_type": "code",
   "execution_count": null,
   "id": "20466458",
   "metadata": {},
   "outputs": [],
   "source": [
    "sgd_reg.fit(X_train,y_train)"
   ]
  },
  {
   "cell_type": "code",
   "execution_count": null,
   "id": "f62522a1",
   "metadata": {},
   "outputs": [],
   "source": [
    "svr_pred = svr_reg.predict(X_test)\n",
    "r2_score(y_test, svr_pred)"
   ]
  },
  {
   "cell_type": "code",
   "execution_count": null,
   "id": "c5104b2b",
   "metadata": {},
   "outputs": [],
   "source": []
  },
  {
   "cell_type": "code",
   "execution_count": null,
   "id": "ebf26dd8",
   "metadata": {},
   "outputs": [],
   "source": []
  },
  {
   "cell_type": "code",
   "execution_count": null,
   "id": "b2ffeae6",
   "metadata": {},
   "outputs": [],
   "source": [
    "from scipy.stats import uniform\n",
    "uniform(loc=0, scale=4).rvs()"
   ]
  },
  {
   "cell_type": "code",
   "execution_count": null,
   "id": "db7c0964",
   "metadata": {},
   "outputs": [],
   "source": []
  },
  {
   "cell_type": "code",
   "execution_count": null,
   "id": "7f2c5a13",
   "metadata": {},
   "outputs": [],
   "source": [
    "# \"max_dept\":[1,3,5,-1],\n",
    "# \"eval_metric\": ['r2', 'neg_mean_absolute_error']\n",
    "\n",
    "\n",
    "param = {\n",
    "\n",
    "       }\n",
    "param"
   ]
  },
  {
   "cell_type": "code",
   "execution_count": 113,
   "id": "fc30aff7",
   "metadata": {},
   "outputs": [],
   "source": [
    "from sklearn.model_selection import RandomizedSearchCV, GridSearchCV"
   ]
  },
  {
   "cell_type": "code",
   "execution_count": 114,
   "id": "851b902e",
   "metadata": {},
   "outputs": [],
   "source": [
    "from sklearn.model_selection import ShuffleSplit\n",
    "ss = ShuffleSplit(n_splits=5, test_size=0.3, random_state=0)"
   ]
  },
  {
   "cell_type": "code",
   "execution_count": 116,
   "id": "d67a2d61",
   "metadata": {},
   "outputs": [],
   "source": [
    "# scores_cv = cross_val_score(xg_reg, X, y, scoring='r2', cv=cv, n_jobs=-1)\n",
    "# lgb_reg -> LGBM\n",
    "# ada_reg -> adaboost\n",
    "new_lgb_reg = GridSearchCV(lgb_reg, {}, scoring='r2', cv=ss)"
   ]
  },
  {
   "cell_type": "code",
   "execution_count": 117,
   "id": "196acefc",
   "metadata": {},
   "outputs": [
    {
     "data": {
      "text/plain": [
       "GridSearchCV(cv=ShuffleSplit(n_splits=5, random_state=0, test_size=0.3, train_size=None),\n",
       "             estimator=LGBMRegressor(boosting_type='dart', learning_rate=0.01,\n",
       "                                     max_depth=10, metric='mape',\n",
       "                                     n_estimators=5000, objective='regression',\n",
       "                                     xgboost_dart_mode=True),\n",
       "             param_grid={}, scoring='r2')"
      ]
     },
     "execution_count": 117,
     "metadata": {},
     "output_type": "execute_result"
    }
   ],
   "source": [
    "new_lgb_reg.fit(X,y)"
   ]
  },
  {
   "cell_type": "code",
   "execution_count": 118,
   "id": "e83a0f62",
   "metadata": {},
   "outputs": [
    {
     "data": {
      "text/plain": [
       "LGBMRegressor(boosting_type='dart', learning_rate=0.01, max_depth=10,\n",
       "              metric='mape', n_estimators=5000, objective='regression',\n",
       "              xgboost_dart_mode=True)"
      ]
     },
     "execution_count": 118,
     "metadata": {},
     "output_type": "execute_result"
    }
   ],
   "source": [
    "new_lgb_reg.best_estimator_"
   ]
  },
  {
   "cell_type": "code",
   "execution_count": 119,
   "id": "4b500a1b",
   "metadata": {},
   "outputs": [
    {
     "data": {
      "text/plain": [
       "{'mean_fit_time': array([160.88321033]),\n",
       " 'std_fit_time': array([2.54883768]),\n",
       " 'mean_score_time': array([2.29816771]),\n",
       " 'std_score_time': array([0.12444894]),\n",
       " 'params': [{}],\n",
       " 'split0_test_score': array([0.35075803]),\n",
       " 'split1_test_score': array([0.3573977]),\n",
       " 'split2_test_score': array([0.35243162]),\n",
       " 'split3_test_score': array([0.34971424]),\n",
       " 'split4_test_score': array([0.35268182]),\n",
       " 'mean_test_score': array([0.35259668]),\n",
       " 'std_test_score': array([0.00263717]),\n",
       " 'rank_test_score': array([1])}"
      ]
     },
     "execution_count": 119,
     "metadata": {},
     "output_type": "execute_result"
    }
   ],
   "source": [
    "new_lgb_reg.cv_results_"
   ]
  },
  {
   "cell_type": "code",
   "execution_count": 120,
   "id": "48f5b4a5",
   "metadata": {},
   "outputs": [],
   "source": [
    "new_lgb_pred = new_lgb_reg.predict(X_test)"
   ]
  },
  {
   "cell_type": "code",
   "execution_count": 121,
   "id": "084c7141",
   "metadata": {},
   "outputs": [
    {
     "data": {
      "text/plain": [
       "0.36244766896511993"
      ]
     },
     "execution_count": 121,
     "metadata": {},
     "output_type": "execute_result"
    }
   ],
   "source": [
    "r2_score(y_test, new_lgb_pred)"
   ]
  },
  {
   "cell_type": "code",
   "execution_count": 128,
   "id": "67e7239d",
   "metadata": {},
   "outputs": [
    {
     "data": {
      "text/plain": [
       "211.65329575538635"
      ]
     },
     "execution_count": 128,
     "metadata": {},
     "output_type": "execute_result"
    }
   ],
   "source": [
    "new_lgb_reg.refit_time_\n"
   ]
  },
  {
   "cell_type": "code",
   "execution_count": 3,
   "id": "b9c9696c",
   "metadata": {},
   "outputs": [],
   "source": [
    "from xgboost import XGBClassifier\n",
    "xgBoost = XGBClassifier()\n",
    "xgBoost.fit(fs_X, y)"
   ]
  },
  {
   "cell_type": "code",
   "execution_count": null,
   "id": "a91f6e0d",
   "metadata": {},
   "outputs": [],
   "source": [
    "y_pred = clf.predict(fs_X_test)\n"
   ]
  },
  {
   "cell_type": "code",
   "execution_count": null,
   "id": "617d1dec",
   "metadata": {},
   "outputs": [],
   "source": [
    "out_df = pd.DataFrame(list(zip(custo_id_df, y_pred)), columns=['customer_id', 'Y'])\n",
    "out_df.to_csv(\"xgBoostBase.csv\", index=False)"
   ]
  }
 ],
 "metadata": {
  "kernelspec": {
   "display_name": "Python 3",
   "language": "python",
   "name": "python3"
  },
  "language_info": {
   "codemirror_mode": {
    "name": "ipython",
    "version": 3
   },
   "file_extension": ".py",
   "mimetype": "text/x-python",
   "name": "python",
   "nbconvert_exporter": "python",
   "pygments_lexer": "ipython3",
   "version": "3.8.8"
  }
 },
 "nbformat": 4,
 "nbformat_minor": 5
}
